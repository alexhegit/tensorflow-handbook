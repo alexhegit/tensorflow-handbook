{
 "cells": [
  {
   "cell_type": "markdown",
   "metadata": {},
   "source": [
    "# Keras Pipeline *\n",
    "\n",
    "https://tf.wiki/zh/basic/models.html#keras-pipeline\n",
    "\n",
    "以上示例均使用了 Keras 的 Subclassing API 建立模型，即对 tf.keras.Model 类进行扩展以定义自己的新模型，同时手工编写了训练和评估模型的流程。这种方式灵活度高，且与其他流行的深度学习框架（如 PyTorch、Chainer）共通，是本手册所推荐的方法。不过在很多时候，我们只需要建立一个结构相对简单和典型的神经网络（比如上文中的 MLP 和 CNN），并使用常规的手段进行训练。这时，Keras 也给我们提供了另一套更为简单高效的内置方法来建立、训练和评估模型。"
   ]
  },
  {
   "cell_type": "markdown",
   "metadata": {},
   "source": [
    "## Keras Sequential/Functional API 模式建立模型 \n",
    "\n",
    "最典型和常用的神经网络结构是将一堆层按特定顺序叠加起来，那么，我们是不是只需要提供一个层的列表，就能由 Keras 将它们自动首尾相连，形成模型呢？Keras 的 Sequential API 正是如此。通过向 tf.keras.models.Sequential() 提供一个层的列表，就能快速地建立一个 tf.keras.Model 模型并返回："
   ]
  },
  {
   "cell_type": "raw",
   "metadata": {},
   "source": [
    "        model = tf.keras.models.Sequential([\n",
    "            tf.keras.layers.Flatten(),\n",
    "            tf.keras.layers.Dense(100, activation=tf.nn.relu),\n",
    "            tf.keras.layers.Dense(10),\n",
    "            tf.keras.layers.Softmax()\n",
    "        ])"
   ]
  },
  {
   "cell_type": "markdown",
   "metadata": {},
   "source": [
    "不过，这种层叠结构并不能表示任意的神经网络结构。为此，Keras 提供了 Functional API，帮助我们建立更为复杂的模型，例如多输入 / 输出或存在参数共享的模型。其使用方法是将层作为可调用的对象并返回张量（这点与之前章节的使用方法一致），并将输入向量和输出向量提供给 tf.keras.Model 的 inputs 和 outputs 参数，示例如下："
   ]
  },
  {
   "cell_type": "raw",
   "metadata": {},
   "source": [
    "        inputs = tf.keras.Input(shape=(28, 28, 1))\n",
    "        x = tf.keras.layers.Flatten()(inputs)\n",
    "        x = tf.keras.layers.Dense(units=100, activation=tf.nn.relu)(x)\n",
    "        x = tf.keras.layers.Dense(units=10)(x)\n",
    "        outputs = tf.keras.layers.Softmax()(x)\n",
    "        model = tf.keras.Model(inputs=inputs, outputs=outputs)"
   ]
  },
  {
   "cell_type": "markdown",
   "metadata": {},
   "source": [
    "## 使用 Keras Model 的 compile 、 fit 和 evaluate 方法训练和评估模型"
   ]
  },
  {
   "cell_type": "markdown",
   "metadata": {},
   "source": [
    "当模型建立完成后，通过 tf.keras.Model 的 compile 方法配置训练过程："
   ]
  },
  {
   "cell_type": "raw",
   "metadata": {},
   "source": [
    "    model.compile(\n",
    "        optimizer=tf.keras.optimizers.Adam(learning_rate=0.001),\n",
    "        loss=tf.keras.losses.sparse_categorical_crossentropy,\n",
    "        metrics=[tf.keras.metrics.sparse_categorical_accuracy]\n",
    "    )"
   ]
  },
  {
   "cell_type": "markdown",
   "metadata": {},
   "source": [
    "tf.keras.Model.compile 接受 3 个重要的参数：\n",
    "\n",
    "oplimizer ：优化器，可从 tf.keras.optimizers 中选择；\n",
    "\n",
    "loss ：损失函数，可从 tf.keras.losses 中选择；\n",
    "\n",
    "metrics ：评估指标，可从 tf.keras.metrics 中选择。\n",
    "\n",
    "接下来，可以使用 tf.keras.Model 的 fit 方法训练模型："
   ]
  },
  {
   "cell_type": "raw",
   "metadata": {},
   "source": [
    "   model.fit(data_loader.train_data, data_loader.train_label, epochs=num_epochs, batch_size=batch_size)"
   ]
  },
  {
   "cell_type": "markdown",
   "metadata": {},
   "source": [
    "tf.keras.Model.fit 接受 5 个重要的参数：\n",
    "\n",
    "x ：训练数据；\n",
    "\n",
    "y ：目标数据（数据标签）；\n",
    "\n",
    "epochs ：将训练数据迭代多少遍；\n",
    "\n",
    "batch_size ：批次的大小；\n",
    "\n",
    "validation_data ：验证数据，可用于在训练过程中监控模型的性能。\n",
    "\n",
    "Keras 支持使用 tf.data.Dataset 进行训练，详见 [tf.data](https://tf.wiki/zh/basic/tools.html#tfdata) 。\n",
    "\n",
    "最后，使用 tf.keras.Model.evaluate 评估训练效果，提供测试数据及标签即可："
   ]
  },
  {
   "cell_type": "raw",
   "metadata": {},
   "source": [
    "    print(model.evaluate(data_loader.test_data, data_loader.test_label))"
   ]
  },
  {
   "cell_type": "markdown",
   "metadata": {},
   "source": [
    "## 自定义层、损失函数和评估指标 *"
   ]
  },
  {
   "cell_type": "markdown",
   "metadata": {},
   "source": [
    "可能你还会问，如果现有的这些层无法满足我的要求，我需要定义自己的层怎么办？事实上，我们不仅可以继承 tf.keras.Model 编写自己的模型类，也可以继承 tf.keras.layers.Layer 编写自己的层。"
   ]
  },
  {
   "cell_type": "markdown",
   "metadata": {
    "ExecuteTime": {
     "end_time": "2020-02-11T06:58:49.803174Z",
     "start_time": "2020-02-11T06:58:49.798689Z"
    }
   },
   "source": [
    "## 自定义层 "
   ]
  },
  {
   "cell_type": "markdown",
   "metadata": {
    "ExecuteTime": {
     "end_time": "2020-02-11T06:59:26.359589Z",
     "start_time": "2020-02-11T06:59:26.353535Z"
    }
   },
   "source": [
    "自定义层需要继承 tf.keras.layers.Layer 类，并重写 __init__ 、 build 和 call 三个方法，如下所示："
   ]
  },
  {
   "cell_type": "raw",
   "metadata": {},
   "source": [
    "class MyLayer(tf.keras.layers.Layer):\n",
    "    def __init__(self):\n",
    "        super().__init__()\n",
    "        # 初始化代码\n",
    "\n",
    "    def build(self, input_shape):     # input_shape 是一个 TensorShape 类型对象，提供输入的形状\n",
    "        # 在第一次使用该层的时候调用该部分代码，在这里创建变量可以使得变量的形状自适应输入的形状\n",
    "        # 而不需要使用者额外指定变量形状。\n",
    "        # 如果已经可以完全确定变量的形状，也可以在__init__部分创建变量\n",
    "        self.variable_0 = self.add_weight(...)\n",
    "        self.variable_1 = self.add_weight(...)\n",
    "\n",
    "    def call(self, inputs):\n",
    "        # 模型调用的代码（处理输入并返回输出）\n",
    "        return output"
   ]
  },
  {
   "cell_type": "markdown",
   "metadata": {},
   "source": [
    "例如，如果我们要自己实现一个 本章第一节 中的全连接层（ tf.keras.layers.Dense ），可以按如下方式编写。此代码在 build 方法中创建两个变量，并在 call 方法中使用创建的变量进行运算："
   ]
  },
  {
   "cell_type": "raw",
   "metadata": {},
   "source": [
    "class LinearLayer(tf.keras.layers.Layer):\n",
    "    def __init__(self, units):\n",
    "        super().__init__()\n",
    "        self.units = units\n",
    "\n",
    "    def build(self, input_shape):     # 这里 input_shape 是第一次运行call()时参数inputs的形状\n",
    "        self.w = self.add_variable(name='w',\n",
    "            shape=[input_shape[-1], self.units], initializer=tf.zeros_initializer())\n",
    "        self.b = self.add_variable(name='b',\n",
    "            shape=[self.units], initializer=tf.zeros_initializer())\n",
    "\n",
    "    def call(self, inputs):\n",
    "        y_pred = tf.matmul(inputs, self.w) + self.b\n",
    "        return y_pred"
   ]
  },
  {
   "cell_type": "markdown",
   "metadata": {},
   "source": [
    "在定义模型的时候，我们便可以如同 Keras 中的其他层一样，调用我们自定义的层 LinearLayer："
   ]
  },
  {
   "cell_type": "raw",
   "metadata": {},
   "source": [
    "class LinearModel(tf.keras.Model):\n",
    "    def __init__(self):\n",
    "        super().__init__()\n",
    "        self.layer = LinearLayer(units=1)\n",
    "\n",
    "    def call(self, inputs):\n",
    "        output = self.layer(inputs)\n",
    "        return output"
   ]
  },
  {
   "cell_type": "markdown",
   "metadata": {},
   "source": [
    "## 自定义损失函数和评估指标 "
   ]
  },
  {
   "cell_type": "markdown",
   "metadata": {},
   "source": [
    "自定义损失函数需要继承 tf.keras.losses.Loss 类，重写 call 方法即可，输入真实值 y_true 和模型预测值 y_pred ，输出模型预测值和真实值之间通过自定义的损失函数计算出的损失值。下面的示例为均方差损失函数："
   ]
  },
  {
   "cell_type": "raw",
   "metadata": {},
   "source": [
    "class MeanSquaredError(tf.keras.losses.Loss):\n",
    "    def call(self, y_true, y_pred):\n",
    "        return tf.reduce_mean(tf.square(y_pred - y_true))"
   ]
  },
  {
   "cell_type": "markdown",
   "metadata": {},
   "source": [
    "自定义评估指标需要继承 tf.keras.metrics.Metric 类，并重写 __init__ 、 update_state 和 result 三个方法。下面的示例对前面用到的 SparseCategoricalAccuracy 评估指标类做了一个简单的重实现："
   ]
  },
  {
   "cell_type": "raw",
   "metadata": {},
   "source": [
    "class SparseCategoricalAccuracy(tf.keras.metrics.Metric):\n",
    "    def __init__(self):\n",
    "        super().__init__()\n",
    "        self.total = self.add_weight(name='total', dtype=tf.int32, initializer=tf.zeros_initializer())\n",
    "        self.count = self.add_weight(name='count', dtype=tf.int32, initializer=tf.zeros_initializer())\n",
    "\n",
    "    def update_state(self, y_true, y_pred, sample_weight=None):\n",
    "        values = tf.cast(tf.equal(y_true, tf.argmax(y_pred, axis=-1, output_type=tf.int32)), tf.int32)\n",
    "        self.total.assign_add(tf.shape(y_true)[0])\n",
    "        self.count.assign_add(tf.reduce_sum(values))\n",
    "\n",
    "    def result(self):\n",
    "        return self.count / self.total"
   ]
  },
  {
   "cell_type": "code",
   "execution_count": null,
   "metadata": {},
   "outputs": [],
   "source": []
  }
 ],
 "metadata": {
  "kernelspec": {
   "display_name": "tf2",
   "language": "python",
   "name": "tf2"
  },
  "language_info": {
   "codemirror_mode": {
    "name": "ipython",
    "version": 3
   },
   "file_extension": ".py",
   "mimetype": "text/x-python",
   "name": "python",
   "nbconvert_exporter": "python",
   "pygments_lexer": "ipython3",
   "version": "3.7.6"
  }
 },
 "nbformat": 4,
 "nbformat_minor": 4
}

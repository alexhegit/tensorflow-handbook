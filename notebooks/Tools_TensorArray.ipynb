{
 "cells": [
  {
   "cell_type": "markdown",
   "metadata": {},
   "source": [
    "# tf.TensorArray ：TensorFlow 动态数组 "
   ]
  },
  {
   "cell_type": "markdown",
   "metadata": {},
   "source": [
    "在部分网络结构，尤其是涉及到时间序列的结构中，我们可能需要将一系列张量以数组的方式依次存放起来，以供进一步处理。当然，在即时执行模式下，你可以直接使用一个 Python 列表（List）存放数组。不过，如果你需要基于计算图的特性（例如使用 @tf.function 加速模型运行或者使用 SavedModel 导出模型），就无法使用这种方式了。因此，TensorFlow 提供了 tf.TensorArray ，一种支持计算图特性的 TensorFlow 动态数组。"
   ]
  },
  {
   "cell_type": "markdown",
   "metadata": {},
   "source": [
    "其声明的方式为：\n",
    "\n",
    "- arr = tf.TensorArray(dtype, size, dynamic_size=False) ：声明一个大小为 size ，类型为 dtype 的 TensorArray arr 。如果将 dynamic_size 参数设置为 True ，则该数组会自动增长空间。\n",
    "\n",
    "其读取和写入的方法为：\n",
    "\n",
    "- write(index, value) ：将 value 写入数组的第 index 个位置；\n",
    "\n",
    "- read(index) ：读取数组的第 index 个值；\n",
    "\n",
    "除此以外，TensorArray 还包括 stack() 、 unstack() 等常用操作，可参考[文档](https://www.tensorflow.org/api_docs/python/tf/TensorArray) 以了解详情。"
   ]
  },
  {
   "cell_type": "markdown",
   "metadata": {},
   "source": [
    "请注意，由于需要支持计算图， tf.TensorArray 的 write() 方法是不可以忽略左值的！也就是说，在图执行模式下，必须按照以下的形式写入数组："
   ]
  },
  {
   "cell_type": "raw",
   "metadata": {},
   "source": [
    "arr = arr.write(index, value)"
   ]
  },
  {
   "cell_type": "markdown",
   "metadata": {},
   "source": [
    "这样才可以正常生成一个计算图操作，并将该操作返回给 arr 。而不可以写成："
   ]
  },
  {
   "cell_type": "raw",
   "metadata": {},
   "source": [
    "arr.write(index, value)     # 生成的计算图操作没有左值接收，从而丢失"
   ]
  },
  {
   "cell_type": "markdown",
   "metadata": {},
   "source": [
    "一个简单的示例如下："
   ]
  },
  {
   "cell_type": "code",
   "execution_count": 1,
   "metadata": {},
   "outputs": [
    {
     "name": "stdout",
     "output_type": "stream",
     "text": [
      "tf.Tensor(0.0, shape=(), dtype=float32) tf.Tensor(1.0, shape=(), dtype=float32) tf.Tensor(2.0, shape=(), dtype=float32)\n"
     ]
    }
   ],
   "source": [
    "import tensorflow as tf\n",
    "\n",
    "@tf.function\n",
    "def array_write_and_read():\n",
    "    arr = tf.TensorArray(dtype=tf.float32, size=3)\n",
    "    arr = arr.write(0, tf.constant(0.0))\n",
    "    arr = arr.write(1, tf.constant(1.0))\n",
    "    arr = arr.write(2, tf.constant(2.0))\n",
    "    arr_0 = arr.read(0)\n",
    "    arr_1 = arr.read(1)\n",
    "    arr_2 = arr.read(2)\n",
    "    return arr_0, arr_1, arr_2\n",
    "\n",
    "a, b, c = array_write_and_read()\n",
    "print(a, b, c)"
   ]
  }
 ],
 "metadata": {
  "kernelspec": {
   "display_name": "tf2",
   "language": "python",
   "name": "tf2"
  },
  "language_info": {
   "codemirror_mode": {
    "name": "ipython",
    "version": 3
   },
   "file_extension": ".py",
   "mimetype": "text/x-python",
   "name": "python",
   "nbconvert_exporter": "python",
   "pygments_lexer": "ipython3",
   "version": "3.7.6"
  }
 },
 "nbformat": 4,
 "nbformat_minor": 4
}
